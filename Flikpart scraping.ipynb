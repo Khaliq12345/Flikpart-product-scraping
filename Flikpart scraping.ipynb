{
 "cells": [
  {
   "cell_type": "code",
   "execution_count": 109,
   "id": "6bd0e4f8",
   "metadata": {},
   "outputs": [],
   "source": [
    "from bs4 import BeautifulSoup\n",
    "import pandas as pd\n",
    "import requests\n",
    "n = []\n",
    "p = []\n",
    "c = []"
   ]
  },
  {
   "cell_type": "code",
   "execution_count": 110,
   "id": "2891d169",
   "metadata": {},
   "outputs": [],
   "source": [
    "response = requests.get('https://www.flipkart.com/clothing-and-accessories/topwear/pr?sid=clo%2Cash&p%5B%5D=facets.ideal_for%255B%255D%3DMen&p%5B%5D=facets.ideal_for%255B%255D%3Dmen&otracker=categorytree&fm=neo%2Fmerchandising&iid=M_a3449c58-3ab4-4ada-8be7-7ff90a43ccd3_1_372UD5BXDFYS_MC.AHHHWF67UPNB&otracker=hp_rich_navigation_1_1.navigationCard.RICH_NAVIGATION_Fashion%7EMen%2527s%2BTop%2BWear%7EAll_AHHHWF67UPNB&otracker1=hp_rich_navigation_PINNED_neo%2Fmerchandising_NA_NAV_EXPANDABLE_navigationCard_cc_1_L2_view-all&cid=AHHHWF67UPNB&page=1')\n",
    "soup = BeautifulSoup(response.text,'lxml')\n",
    "#b_url = 'https://www.flipkart.com/clothing-and-accessories/topwear/pr?sid=clo,ash&p[]=facets.ideal_for%255B%255D%3DMen&p[]=facets.ideal_for%255B%255D%3Dmen&otracker=categorytree&fm=neo%2Fmerchandising&iid=M_e039dde0-5239-464c-a664-7e7497e96b26_1_372UD5BXDFYS_MC.AHHHWF67UPNB&otracker=hp_rich_navigation_1_1.navigationCard.RICH_NAVIGATION_Fashion~Men%2527s%2BTop%2BWear~All_AHHHWF67UPNB&otracker1=hp_rich_navigation_PINNED_neo%2Fmerchandising_NA_NAV_EXPANDABLE_navigationCard_cc_1_L2_view-all&cid=AHHHWF67UPNB'\n",
    "#query = '&page=1'"
   ]
  },
  {
   "cell_type": "code",
   "execution_count": 113,
   "id": "71397620",
   "metadata": {},
   "outputs": [
    {
     "data": {
      "text/plain": [
       "'BLIVE'"
      ]
     },
     "execution_count": 113,
     "metadata": {},
     "output_type": "execute_result"
    }
   ],
   "source": [
    "cards = soup.find_all('div',{'class':'_2B099V'})\n",
    "name = cards[0].find('a')\n",
    "price = cards[0].find('div',{'class':'_30jeq3'})\n",
    "company = cards[39].find('div',{'class':'_2WkVRV'})\n",
    "company.text"
   ]
  },
  {
   "cell_type": "code",
   "execution_count": 114,
   "id": "d84dcc8e",
   "metadata": {},
   "outputs": [],
   "source": [
    "def topwear(base_url):\n",
    "    for i in range(1,26):\n",
    "        b_url = base_url\n",
    "        query = '&page='+ str(i)\n",
    "        url = b_url+query\n",
    "        response = requests.get(url)\n",
    "        soup = BeautifulSoup(response.text,'lxml')\n",
    "        cards = soup.find_all('div',{'class':'_2B099V'})\n",
    "        for card in cards:\n",
    "            try:\n",
    "                name = card.find('a').text\n",
    "                n.append(name)\n",
    "            except ValueError:\n",
    "                n.append('N/A')\n",
    "                \n",
    "            try:\n",
    "                price = card.find('div',{'class':'_30jeq3'}).text\n",
    "                p.append(price)\n",
    "            except ValueError:\n",
    "                p.append('N/A')\n",
    "                \n",
    "            try:\n",
    "                company = card.find('div',{'class':'_2WkVRV'}).text\n",
    "                c.append(company)\n",
    "            except ValueError:\n",
    "                c.append('N/A')\n",
    "                \n",
    "    df = pd.DataFrame({'Name':n,\"Price\":p,\"Company\":c})\n",
    "    df.to_csv('topwear_flikpart.csv')\n",
    "    return df"
   ]
  },
  {
   "cell_type": "code",
   "execution_count": 115,
   "id": "3e40dd1c",
   "metadata": {},
   "outputs": [
    {
     "data": {
      "text/html": [
       "<div>\n",
       "<style scoped>\n",
       "    .dataframe tbody tr th:only-of-type {\n",
       "        vertical-align: middle;\n",
       "    }\n",
       "\n",
       "    .dataframe tbody tr th {\n",
       "        vertical-align: top;\n",
       "    }\n",
       "\n",
       "    .dataframe thead th {\n",
       "        text-align: right;\n",
       "    }\n",
       "</style>\n",
       "<table border=\"1\" class=\"dataframe\">\n",
       "  <thead>\n",
       "    <tr style=\"text-align: right;\">\n",
       "      <th></th>\n",
       "      <th>Name</th>\n",
       "      <th>Price</th>\n",
       "      <th>Company</th>\n",
       "    </tr>\n",
       "  </thead>\n",
       "  <tbody>\n",
       "    <tr>\n",
       "      <th>0</th>\n",
       "      <td>Men Regular Fit Striped Spread Collar Casual S...</td>\n",
       "      <td>₹404</td>\n",
       "      <td>METRONAUT</td>\n",
       "    </tr>\n",
       "    <tr>\n",
       "      <th>1</th>\n",
       "      <td>Men Regular Fit Checkered Casual Shirt</td>\n",
       "      <td>₹313</td>\n",
       "      <td>METRONAUT</td>\n",
       "    </tr>\n",
       "    <tr>\n",
       "      <th>2</th>\n",
       "      <td>Striped Men Hooded Neck Red, Black T-Shirt</td>\n",
       "      <td>₹157</td>\n",
       "      <td>HELMONT</td>\n",
       "    </tr>\n",
       "    <tr>\n",
       "      <th>3</th>\n",
       "      <td>Solid Men Mandarin Collar Brown, Black T-Shirt</td>\n",
       "      <td>₹255</td>\n",
       "      <td>TRIPR</td>\n",
       "    </tr>\n",
       "    <tr>\n",
       "      <th>4</th>\n",
       "      <td>Striped Men Round Neck Blue T-Shirt</td>\n",
       "      <td>₹196</td>\n",
       "      <td>Eyebogler</td>\n",
       "    </tr>\n",
       "    <tr>\n",
       "      <th>...</th>\n",
       "      <td>...</td>\n",
       "      <td>...</td>\n",
       "      <td>...</td>\n",
       "    </tr>\n",
       "    <tr>\n",
       "      <th>995</th>\n",
       "      <td>Men Slim Fit Checkered Casual Shirt</td>\n",
       "      <td>₹313</td>\n",
       "      <td>METRONAUT</td>\n",
       "    </tr>\n",
       "    <tr>\n",
       "      <th>996</th>\n",
       "      <td>Color Block Men Polo Neck Multicolor T-Shirt</td>\n",
       "      <td>₹499</td>\n",
       "      <td>Allen Solly</td>\n",
       "    </tr>\n",
       "    <tr>\n",
       "      <th>997</th>\n",
       "      <td>Printed Men Hooded Neck Dark Green T-Shirt</td>\n",
       "      <td>₹281</td>\n",
       "      <td>TRIPR</td>\n",
       "    </tr>\n",
       "    <tr>\n",
       "      <th>998</th>\n",
       "      <td>Solid Men Round Neck Brown T-Shirt</td>\n",
       "      <td>₹219</td>\n",
       "      <td>FastColors</td>\n",
       "    </tr>\n",
       "    <tr>\n",
       "      <th>999</th>\n",
       "      <td>Men Slim Fit Printed Casual Shirt</td>\n",
       "      <td>₹1,214</td>\n",
       "      <td>Louis Philippe Sport</td>\n",
       "    </tr>\n",
       "  </tbody>\n",
       "</table>\n",
       "<p>1000 rows × 3 columns</p>\n",
       "</div>"
      ],
      "text/plain": [
       "                                                  Name   Price  \\\n",
       "0    Men Regular Fit Striped Spread Collar Casual S...    ₹404   \n",
       "1               Men Regular Fit Checkered Casual Shirt    ₹313   \n",
       "2           Striped Men Hooded Neck Red, Black T-Shirt    ₹157   \n",
       "3       Solid Men Mandarin Collar Brown, Black T-Shirt    ₹255   \n",
       "4                  Striped Men Round Neck Blue T-Shirt    ₹196   \n",
       "..                                                 ...     ...   \n",
       "995                Men Slim Fit Checkered Casual Shirt    ₹313   \n",
       "996       Color Block Men Polo Neck Multicolor T-Shirt    ₹499   \n",
       "997         Printed Men Hooded Neck Dark Green T-Shirt    ₹281   \n",
       "998                 Solid Men Round Neck Brown T-Shirt    ₹219   \n",
       "999                  Men Slim Fit Printed Casual Shirt  ₹1,214   \n",
       "\n",
       "                  Company  \n",
       "0               METRONAUT  \n",
       "1               METRONAUT  \n",
       "2                 HELMONT  \n",
       "3                   TRIPR  \n",
       "4               Eyebogler  \n",
       "..                    ...  \n",
       "995             METRONAUT  \n",
       "996           Allen Solly  \n",
       "997                 TRIPR  \n",
       "998            FastColors  \n",
       "999  Louis Philippe Sport  \n",
       "\n",
       "[1000 rows x 3 columns]"
      ]
     },
     "execution_count": 115,
     "metadata": {},
     "output_type": "execute_result"
    }
   ],
   "source": [
    "topwear('https://www.flipkart.com/clothing-and-accessories/topwear/pr?sid=clo,ash&p[]=facets.ideal_for%255B%255D%3DMen&p[]=facets.ideal_for%255B%255D%3Dmen&otracker=categorytree&fm=neo%2Fmerchandising&iid=M_e039dde0-5239-464c-a664-7e7497e96b26_1_372UD5BXDFYS_MC.AHHHWF67UPNB&otracker=hp_rich_navigation_1_1.navigationCard.RICH_NAVIGATION_Fashion~Men%2527s%2BTop%2BWear~All_AHHHWF67UPNB&otracker1=hp_rich_navigation_PINNED_neo%2Fmerchandising_NA_NAV_EXPANDABLE_navigationCard_cc_1_L2_view-all&cid=AHHHWF67UPNB')"
   ]
  },
  {
   "cell_type": "code",
   "execution_count": null,
   "id": "102fa772",
   "metadata": {},
   "outputs": [],
   "source": []
  },
  {
   "cell_type": "code",
   "execution_count": null,
   "id": "89afab47",
   "metadata": {},
   "outputs": [],
   "source": []
  },
  {
   "cell_type": "code",
   "execution_count": null,
   "id": "a28b15e8",
   "metadata": {},
   "outputs": [],
   "source": []
  },
  {
   "cell_type": "code",
   "execution_count": null,
   "id": "3e5d01e8",
   "metadata": {},
   "outputs": [],
   "source": []
  },
  {
   "cell_type": "code",
   "execution_count": null,
   "id": "4ad87617",
   "metadata": {},
   "outputs": [],
   "source": []
  },
  {
   "cell_type": "code",
   "execution_count": null,
   "id": "fc1fc556",
   "metadata": {},
   "outputs": [],
   "source": []
  },
  {
   "cell_type": "code",
   "execution_count": null,
   "id": "26119c61",
   "metadata": {},
   "outputs": [],
   "source": []
  },
  {
   "cell_type": "code",
   "execution_count": null,
   "id": "e2f165bf",
   "metadata": {},
   "outputs": [],
   "source": []
  },
  {
   "cell_type": "code",
   "execution_count": null,
   "id": "e967e624",
   "metadata": {},
   "outputs": [],
   "source": []
  },
  {
   "cell_type": "code",
   "execution_count": null,
   "id": "f4a1d614",
   "metadata": {},
   "outputs": [],
   "source": []
  },
  {
   "cell_type": "code",
   "execution_count": null,
   "id": "534f3fc7",
   "metadata": {},
   "outputs": [],
   "source": []
  },
  {
   "cell_type": "code",
   "execution_count": null,
   "id": "d3035a40",
   "metadata": {},
   "outputs": [],
   "source": []
  },
  {
   "cell_type": "code",
   "execution_count": null,
   "id": "3ce13e11",
   "metadata": {},
   "outputs": [],
   "source": []
  },
  {
   "cell_type": "code",
   "execution_count": null,
   "id": "6817aad7",
   "metadata": {},
   "outputs": [],
   "source": []
  },
  {
   "cell_type": "code",
   "execution_count": null,
   "id": "b1a8f946",
   "metadata": {},
   "outputs": [],
   "source": []
  },
  {
   "cell_type": "code",
   "execution_count": null,
   "id": "d0a03cc5",
   "metadata": {},
   "outputs": [],
   "source": []
  },
  {
   "cell_type": "code",
   "execution_count": null,
   "id": "20a28034",
   "metadata": {},
   "outputs": [],
   "source": []
  }
 ],
 "metadata": {
  "kernelspec": {
   "display_name": "Python 3 (ipykernel)",
   "language": "python",
   "name": "python3"
  },
  "language_info": {
   "codemirror_mode": {
    "name": "ipython",
    "version": 3
   },
   "file_extension": ".py",
   "mimetype": "text/x-python",
   "name": "python",
   "nbconvert_exporter": "python",
   "pygments_lexer": "ipython3",
   "version": "3.9.7"
  }
 },
 "nbformat": 4,
 "nbformat_minor": 5
}
